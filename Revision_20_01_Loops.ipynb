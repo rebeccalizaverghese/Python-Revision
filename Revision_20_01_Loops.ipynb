{
  "nbformat": 4,
  "nbformat_minor": 0,
  "metadata": {
    "colab": {
      "provenance": [],
      "authorship_tag": "ABX9TyP2g2b5GvdtrRHNg8mYWwNJ",
      "include_colab_link": true
    },
    "kernelspec": {
      "name": "python3",
      "display_name": "Python 3"
    },
    "language_info": {
      "name": "python"
    }
  },
  "cells": [
    {
      "cell_type": "markdown",
      "metadata": {
        "id": "view-in-github",
        "colab_type": "text"
      },
      "source": [
        "<a href=\"https://colab.research.google.com/github/rebeccalizaverghese/Python-Revision/blob/main/Revision_20_01_Loops.ipynb\" target=\"_parent\"><img src=\"https://colab.research.google.com/assets/colab-badge.svg\" alt=\"Open In Colab\"/></a>"
      ]
    },
    {
      "cell_type": "code",
      "execution_count": null,
      "metadata": {
        "colab": {
          "base_uri": "https://localhost:8080/"
        },
        "id": "UJrzxOIRUHrw",
        "outputId": "3db5f539-c3c8-4f70-813f-299c08778458"
      },
      "outputs": [
        {
          "output_type": "stream",
          "name": "stdout",
          "text": [
            "0\n",
            "1\n",
            "2\n",
            "3\n",
            "4\n",
            "5\n",
            "6\n",
            "7\n",
            "8\n",
            "9\n"
          ]
        }
      ],
      "source": [
        "x=0\n",
        "while x<10:\n",
        "  print(x)\n",
        "  x=x+1 "
      ]
    },
    {
      "cell_type": "code",
      "source": [
        "x=10\n",
        "while x>1:\n",
        "  print(x)\n",
        "  x=x-1\n",
        "   "
      ],
      "metadata": {
        "colab": {
          "base_uri": "https://localhost:8080/"
        },
        "id": "Ujb6Gb64YHv9",
        "outputId": "6eda9b5c-0f97-4d0e-c931-2bd6bc586567"
      },
      "execution_count": null,
      "outputs": [
        {
          "output_type": "stream",
          "name": "stdout",
          "text": [
            "10\n",
            "9\n",
            "8\n",
            "7\n",
            "6\n",
            "5\n",
            "4\n",
            "3\n",
            "2\n",
            "1\n"
          ]
        }
      ]
    },
    {
      "cell_type": "code",
      "source": [
        "#Requirement - add first 10 nos. (1+2+3+4....+10)\n",
        "x=0\n",
        "y=0\n",
        "while x<=10:\n",
        "  y=y+x #=> (y+x) = 0+0 =0, 0+1=1, 1+2=3, 3+3=6, 6+4=10, 10+5=15, 15+6=21, 21+7=28, 28+8=36, 36+9=45, 45+10=55 \n",
        "  x=x+1 #+> (x+1)=> 0+1=1, 1+1=2, 2+1=3, 3+1=4, 4+1=5, 5+1=6....9+1=10\n",
        "print(y) "
      ],
      "metadata": {
        "colab": {
          "base_uri": "https://localhost:8080/"
        },
        "id": "Fn-e9UM1ajwJ",
        "outputId": "b9496f6f-509c-4049-f685-a750216a7195"
      },
      "execution_count": null,
      "outputs": [
        {
          "output_type": "stream",
          "name": "stdout",
          "text": [
            "55\n"
          ]
        }
      ]
    },
    {
      "cell_type": "code",
      "source": [
        "#To find factorial \n",
        "x=1\n",
        "n=int(input(\"enter limit\"))\n",
        "s=1\n",
        "while x<n+1:\n",
        "  s=s*x\n",
        "  x=x+1\n",
        "  print(s)\n",
        "\n"
      ],
      "metadata": {
        "colab": {
          "base_uri": "https://localhost:8080/"
        },
        "id": "VZVOTtU_bLZL",
        "outputId": "cee2d68b-78a2-490f-9e47-2c2d3591f6a4"
      },
      "execution_count": null,
      "outputs": [
        {
          "output_type": "stream",
          "name": "stdout",
          "text": [
            "enter limit5\n",
            "1\n",
            "2\n",
            "6\n",
            "24\n",
            "120\n"
          ]
        }
      ]
    },
    {
      "cell_type": "code",
      "source": [
        "x=0\n",
        "while x<10:\n",
        "  x=x+1\n",
        "  if x==5:\n",
        "    break; #loop ends\n",
        "  print(x)"
      ],
      "metadata": {
        "colab": {
          "base_uri": "https://localhost:8080/"
        },
        "id": "fYLFJc4sehg3",
        "outputId": "7e7c0921-7d68-4d94-dcfd-580c7f1df847"
      },
      "execution_count": null,
      "outputs": [
        {
          "output_type": "stream",
          "name": "stdout",
          "text": [
            "1\n",
            "2\n",
            "3\n",
            "4\n"
          ]
        }
      ]
    },
    {
      "cell_type": "code",
      "source": [
        "#To find factorial =>  (1*2*3*4*5...)\n",
        "x=1\n",
        "y=1\n",
        "while x<10:\n",
        "  y=y*x #=> (y=y*x) = 1*1=1*2=2*3=6*4=24*5=120\n",
        "  x=x+1 #=> (x=x+1) = 1+1=2+1=3+1=4+1=5+1=6 (loop broken)\n",
        "  if x==6:\n",
        "    break;\n",
        "print(y)\n"
      ],
      "metadata": {
        "colab": {
          "base_uri": "https://localhost:8080/"
        },
        "id": "le4-nctBgvc0",
        "outputId": "cd0c0c01-849a-46ed-f4e4-3079a8bf9a62"
      },
      "execution_count": null,
      "outputs": [
        {
          "output_type": "stream",
          "name": "stdout",
          "text": [
            "120\n"
          ]
        }
      ]
    },
    {
      "cell_type": "code",
      "source": [
        "x=0\n",
        "while x<10:\n",
        "  x=x+1\n",
        "  if x==5:\n",
        "    continue; # once x=5, any command under 'continue'is ignored for THAT loop\n",
        "  print(x) # x=5 is not printed"
      ],
      "metadata": {
        "colab": {
          "base_uri": "https://localhost:8080/"
        },
        "id": "kST4-M5Xh03J",
        "outputId": "9dd0e306-8295-48f8-fbef-0baf5ecc3698"
      },
      "execution_count": null,
      "outputs": [
        {
          "output_type": "stream",
          "name": "stdout",
          "text": [
            "1\n",
            "2\n",
            "3\n",
            "4\n",
            "6\n",
            "7\n",
            "8\n",
            "9\n",
            "10\n"
          ]
        }
      ]
    },
    {
      "cell_type": "code",
      "source": [
        "x=0\n",
        "for x in range(100): # in 'for' loop, x will automatically print till 99\n",
        "  print(x)"
      ],
      "metadata": {
        "colab": {
          "base_uri": "https://localhost:8080/"
        },
        "id": "fcSvsYkPilck",
        "outputId": "ab6da93a-899e-4333-f84f-c4244f611665"
      },
      "execution_count": null,
      "outputs": [
        {
          "output_type": "stream",
          "name": "stdout",
          "text": [
            "0\n",
            "1\n",
            "2\n",
            "3\n",
            "4\n",
            "5\n",
            "6\n",
            "7\n",
            "8\n",
            "9\n",
            "10\n",
            "11\n",
            "12\n",
            "13\n",
            "14\n",
            "15\n",
            "16\n",
            "17\n",
            "18\n",
            "19\n",
            "20\n",
            "21\n",
            "22\n",
            "23\n",
            "24\n",
            "25\n",
            "26\n",
            "27\n",
            "28\n",
            "29\n",
            "30\n",
            "31\n",
            "32\n",
            "33\n",
            "34\n",
            "35\n",
            "36\n",
            "37\n",
            "38\n",
            "39\n",
            "40\n",
            "41\n",
            "42\n",
            "43\n",
            "44\n",
            "45\n",
            "46\n",
            "47\n",
            "48\n",
            "49\n",
            "50\n",
            "51\n",
            "52\n",
            "53\n",
            "54\n",
            "55\n",
            "56\n",
            "57\n",
            "58\n",
            "59\n",
            "60\n",
            "61\n",
            "62\n",
            "63\n",
            "64\n",
            "65\n",
            "66\n",
            "67\n",
            "68\n",
            "69\n",
            "70\n",
            "71\n",
            "72\n",
            "73\n",
            "74\n",
            "75\n",
            "76\n",
            "77\n",
            "78\n",
            "79\n",
            "80\n",
            "81\n",
            "82\n",
            "83\n",
            "84\n",
            "85\n",
            "86\n",
            "87\n",
            "88\n",
            "89\n",
            "90\n",
            "91\n",
            "92\n",
            "93\n",
            "94\n",
            "95\n",
            "96\n",
            "97\n",
            "98\n",
            "99\n"
          ]
        }
      ]
    },
    {
      "cell_type": "code",
      "source": [
        "#to find sum of 1st 101 nos.(1+2+3....+100)\n",
        "y=0\n",
        "for x in range(101):\n",
        "  y=y+x\n",
        "print(y)\n"
      ],
      "metadata": {
        "colab": {
          "base_uri": "https://localhost:8080/"
        },
        "id": "-5ZSZY22j2Ad",
        "outputId": "903523a4-158b-43e6-b448-2e5839a34cc3"
      },
      "execution_count": null,
      "outputs": [
        {
          "output_type": "stream",
          "name": "stdout",
          "text": [
            "5050\n"
          ]
        }
      ]
    },
    {
      "cell_type": "code",
      "source": [
        "#to find factorial\n",
        "n=int(input(\"Enter Limit\"))\n",
        "y=1\n",
        "for x in range(1,n+1): #(1, n+1)=> 1st value (1) = loop starts with 1   2nd value (n+1)/(5+1)= loop ends with value - does no include no 6\n",
        "  y=y*x\n",
        "print(y)\n",
        "\n"
      ],
      "metadata": {
        "colab": {
          "base_uri": "https://localhost:8080/"
        },
        "id": "_nuZOg0jlCSy",
        "outputId": "3354aedb-c68c-42be-e04c-d7e7f4f1ba9e"
      },
      "execution_count": null,
      "outputs": [
        {
          "output_type": "stream",
          "name": "stdout",
          "text": [
            "Enter Limit5\n",
            "120\n"
          ]
        }
      ]
    },
    {
      "cell_type": "code",
      "source": [
        "for x in range(10):\n",
        "  if x==5:\n",
        "    break;\n",
        "  print(x)"
      ],
      "metadata": {
        "colab": {
          "base_uri": "https://localhost:8080/"
        },
        "id": "m0RYGJFRm587",
        "outputId": "2ab1e2c0-ad28-4c30-82dd-3d176da674e9"
      },
      "execution_count": null,
      "outputs": [
        {
          "output_type": "stream",
          "name": "stdout",
          "text": [
            "0\n",
            "1\n",
            "2\n",
            "3\n",
            "4\n"
          ]
        }
      ]
    },
    {
      "cell_type": "code",
      "source": [
        "for x in range(10):\n",
        "  if x==5:\n",
        "    continue;\n",
        "  print(x)"
      ],
      "metadata": {
        "colab": {
          "base_uri": "https://localhost:8080/"
        },
        "id": "1aTrLv7so9F0",
        "outputId": "8cb02e4f-5a48-41f4-9d34-ff0c63721900"
      },
      "execution_count": null,
      "outputs": [
        {
          "output_type": "stream",
          "name": "stdout",
          "text": [
            "0\n",
            "1\n",
            "2\n",
            "3\n",
            "4\n",
            "6\n",
            "7\n",
            "8\n",
            "9\n"
          ]
        }
      ]
    },
    {
      "cell_type": "code",
      "source": [
        "x=\"Rebecca Liza Verghese\"\n",
        "for a in x:\n",
        "  print(a)"
      ],
      "metadata": {
        "colab": {
          "base_uri": "https://localhost:8080/"
        },
        "id": "PCtwX1HNpkwT",
        "outputId": "9b16dbf6-0a48-4b42-91ab-8bfe02f76fbd"
      },
      "execution_count": null,
      "outputs": [
        {
          "output_type": "stream",
          "name": "stdout",
          "text": [
            "R\n",
            "e\n",
            "b\n",
            "e\n",
            "c\n",
            "c\n",
            "a\n",
            " \n",
            "L\n",
            "i\n",
            "z\n",
            "a\n",
            " \n",
            "V\n",
            "e\n",
            "r\n",
            "g\n",
            "h\n",
            "e\n",
            "s\n",
            "e\n"
          ]
        }
      ]
    },
    {
      "cell_type": "code",
      "source": [
        "x=\"Rebecca Liza Verghese\"\n",
        "for a in x:\n",
        "  if a==\"L\":\n",
        "    break;\n",
        "  print(a)"
      ],
      "metadata": {
        "colab": {
          "base_uri": "https://localhost:8080/"
        },
        "id": "sCbCjuzXp9Dg",
        "outputId": "41450b98-b7ab-4124-8464-a9c82e3f34b4"
      },
      "execution_count": null,
      "outputs": [
        {
          "output_type": "stream",
          "name": "stdout",
          "text": [
            "R\n",
            "e\n",
            "b\n",
            "e\n",
            "c\n",
            "c\n",
            "a\n",
            " \n"
          ]
        }
      ]
    },
    {
      "cell_type": "code",
      "source": [
        "x=\"Rebecca Liza Verghese\"\n",
        "for a in x:\n",
        "  if a==\"i\":\n",
        "    continue;\n",
        "  print(a)"
      ],
      "metadata": {
        "colab": {
          "base_uri": "https://localhost:8080/"
        },
        "id": "k21IbDVeqd6Q",
        "outputId": "cfc43436-4bb6-4914-d686-367638e8f2cc"
      },
      "execution_count": null,
      "outputs": [
        {
          "output_type": "stream",
          "name": "stdout",
          "text": [
            "R\n",
            "e\n",
            "b\n",
            "e\n",
            "c\n",
            "c\n",
            "a\n",
            " \n",
            "L\n",
            "z\n",
            "a\n",
            " \n",
            "V\n",
            "e\n",
            "r\n",
            "g\n",
            "h\n",
            "e\n",
            "s\n",
            "e\n"
          ]
        }
      ]
    },
    {
      "cell_type": "code",
      "source": [],
      "metadata": {
        "id": "KhFoxRjyrRTy"
      },
      "execution_count": null,
      "outputs": []
    }
  ]
}