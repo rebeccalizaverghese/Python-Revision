{
  "nbformat": 4,
  "nbformat_minor": 0,
  "metadata": {
    "colab": {
      "provenance": [],
      "authorship_tag": "ABX9TyO6gc4GRzT7w736Bpp66Axv",
      "include_colab_link": true
    },
    "kernelspec": {
      "name": "python3",
      "display_name": "Python 3"
    },
    "language_info": {
      "name": "python"
    }
  },
  "cells": [
    {
      "cell_type": "markdown",
      "metadata": {
        "id": "view-in-github",
        "colab_type": "text"
      },
      "source": [
        "<a href=\"https://colab.research.google.com/github/rebeccalizaverghese/Python-Revision/blob/main/Revision_23_01_Python_List.ipynb\" target=\"_parent\"><img src=\"https://colab.research.google.com/assets/colab-badge.svg\" alt=\"Open In Colab\"/></a>"
      ]
    },
    {
      "cell_type": "code",
      "execution_count": null,
      "metadata": {
        "id": "6QXCLmBVtrtt"
      },
      "outputs": [],
      "source": [
        "x=\"Rebecca Liza Verghese\""
      ]
    },
    {
      "cell_type": "code",
      "source": [
        "len(x)"
      ],
      "metadata": {
        "colab": {
          "base_uri": "https://localhost:8080/"
        },
        "id": "_L_4a_huukLv",
        "outputId": "0a6705ad-0ede-41d3-935a-49a19492a2c6"
      },
      "execution_count": null,
      "outputs": [
        {
          "output_type": "execute_result",
          "data": {
            "text/plain": [
              "21"
            ]
          },
          "metadata": {},
          "execution_count": 4
        }
      ]
    },
    {
      "cell_type": "code",
      "source": [
        "#LIST\n",
        "x= [\"John\", \"Mary\", \"David\", \"Adam\"] #'List' should start n end with []\n",
        "print(x)\n",
        "type(x)\n",
        "\n"
      ],
      "metadata": {
        "colab": {
          "base_uri": "https://localhost:8080/"
        },
        "id": "JiO9lRCMuuBe",
        "outputId": "3e94a6bc-92b3-4d56-8d2d-672539c9a4d1"
      },
      "execution_count": null,
      "outputs": [
        {
          "output_type": "stream",
          "name": "stdout",
          "text": [
            "['John', 'Mary', 'David', 'Adam']\n"
          ]
        },
        {
          "output_type": "execute_result",
          "data": {
            "text/plain": [
              "list"
            ]
          },
          "metadata": {},
          "execution_count": 6
        }
      ]
    },
    {
      "cell_type": "code",
      "source": [
        "x= [9076, \"Rebecca\", 19, 5/4/2003, \"Aroor\"]\n",
        "print(x[0])\n",
        "print(x[-1])"
      ],
      "metadata": {
        "colab": {
          "base_uri": "https://localhost:8080/"
        },
        "id": "hc2ntlQmvmax",
        "outputId": "40c7071a-179a-4ddb-abc4-631f3ee48de8"
      },
      "execution_count": null,
      "outputs": [
        {
          "output_type": "stream",
          "name": "stdout",
          "text": [
            "9076\n",
            "Aroor\n"
          ]
        }
      ]
    },
    {
      "cell_type": "code",
      "source": [
        "x=[56,37,73,89,44,96,23,61,14,33]\n",
        "x[0:1] #print only 0th no.\n",
        "x[0:2] #does not include 2nd no.\n",
        "x[0:5] "
      ],
      "metadata": {
        "colab": {
          "base_uri": "https://localhost:8080/"
        },
        "id": "c1P5ipbfwS_B",
        "outputId": "9995299d-fd97-4890-9105-aaff33c1d8c9"
      },
      "execution_count": null,
      "outputs": [
        {
          "output_type": "execute_result",
          "data": {
            "text/plain": [
              "[56, 37, 73, 89, 44]"
            ]
          },
          "metadata": {},
          "execution_count": 23
        }
      ]
    },
    {
      "cell_type": "code",
      "source": [
        "x[-3:] #last 3 nos.\n"
      ],
      "metadata": {
        "colab": {
          "base_uri": "https://localhost:8080/"
        },
        "id": "qkWsqdKoxtH2",
        "outputId": "57c144eb-5c4c-494e-a268-e27c7499c709"
      },
      "execution_count": null,
      "outputs": [
        {
          "output_type": "execute_result",
          "data": {
            "text/plain": [
              "[61, 14, 33]"
            ]
          },
          "metadata": {},
          "execution_count": 30
        }
      ]
    },
    {
      "cell_type": "code",
      "source": [
        "x[7:]"
      ],
      "metadata": {
        "colab": {
          "base_uri": "https://localhost:8080/"
        },
        "id": "cvqLMqfZy4kz",
        "outputId": "a38ed67d-8855-4443-ae96-659d5b50fd7c"
      },
      "execution_count": null,
      "outputs": [
        {
          "output_type": "execute_result",
          "data": {
            "text/plain": [
              "[61, 14, 33]"
            ]
          },
          "metadata": {},
          "execution_count": 33
        }
      ]
    },
    {
      "cell_type": "code",
      "source": [
        "x=[56,37,73,89,44,96,23,61,14,33]\n",
        "x[0]=4\n",
        "print(x)"
      ],
      "metadata": {
        "colab": {
          "base_uri": "https://localhost:8080/"
        },
        "id": "Leci5ZOY0Op7",
        "outputId": "e7d38998-ddc2-4890-cd8d-531b16c7ea11"
      },
      "execution_count": null,
      "outputs": [
        {
          "output_type": "stream",
          "name": "stdout",
          "text": [
            "[4, 37, 73, 89, 44, 96, 23, 61, 14, 33]\n"
          ]
        }
      ]
    },
    {
      "cell_type": "code",
      "source": [
        "x= [9076, \"Rebecca\", 19, 5/4/2003, \"Aroor\"]\n",
        "x[-1]=\"Rajagiri\"\n",
        "print(x)"
      ],
      "metadata": {
        "colab": {
          "base_uri": "https://localhost:8080/"
        },
        "id": "uzmmY2JR0lbU",
        "outputId": "54a07ff9-6960-4af0-8a1d-df256fdb534b"
      },
      "execution_count": null,
      "outputs": [
        {
          "output_type": "stream",
          "name": "stdout",
          "text": [
            "[9076, 'Rebecca', 19, 0.0006240639041437844, 'Rajagiri']\n"
          ]
        }
      ]
    },
    {
      "cell_type": "code",
      "source": [
        "x=[3,6,9,12]\n",
        "x.append(15) #add new data at the end of the list"
      ],
      "metadata": {
        "colab": {
          "base_uri": "https://localhost:8080/"
        },
        "id": "SgRc8Wnd1aIj",
        "outputId": "938fcc57-29de-4350-c20e-0701cb3e456f"
      },
      "execution_count": null,
      "outputs": [
        {
          "output_type": "execute_result",
          "data": {
            "text/plain": [
              "[3, 6, 9, 12, 15]"
            ]
          },
          "metadata": {},
          "execution_count": 41
        }
      ]
    },
    {
      "cell_type": "code",
      "source": [
        "i=0\n",
        "l=[]\n",
        "while i<4:\n",
        "  l.append(input(\"Enter your name\"))\n",
        "  i=i+1\n",
        "print(l)"
      ],
      "metadata": {
        "colab": {
          "base_uri": "https://localhost:8080/"
        },
        "id": "W3Siio3m3TUd",
        "outputId": "2fbf0335-e162-4d8d-d127-34aa53bbbb24"
      },
      "execution_count": null,
      "outputs": [
        {
          "output_type": "stream",
          "name": "stdout",
          "text": [
            "Enter your nameAnn\n",
            "Enter your nameLiz\n",
            "Enter your nameMatt\n",
            "Enter your nameLiju\n",
            "['Ann', 'Liz', 'Matt', 'Liju']\n"
          ]
        }
      ]
    },
    {
      "cell_type": "code",
      "source": [
        "x=[\"Ann\", \"Liz\", \"Matt\", \"Mary\", \"Verghese\"]\n",
        "y=x.copy()\n",
        "print(y)\n"
      ],
      "metadata": {
        "colab": {
          "base_uri": "https://localhost:8080/"
        },
        "id": "VIAJNu7P395V",
        "outputId": "5449aea9-532c-43a0-9982-02fa90bcc26f"
      },
      "execution_count": null,
      "outputs": [
        {
          "output_type": "stream",
          "name": "stdout",
          "text": [
            "['Ann', 'Liz', 'Matt', 'Mary', 'Verghese']\n"
          ]
        }
      ]
    },
    {
      "cell_type": "code",
      "source": [
        "x=[\"Ann\", \"Liz\", \"Matt\", \"Mary\", \"Verghese\"]\n",
        "y=['A','L','M','M','V']\n",
        "x.extend(y) #'extend' command used to merge 2 lists\n",
        "print(x)\n",
        "print(y)\n"
      ],
      "metadata": {
        "colab": {
          "base_uri": "https://localhost:8080/"
        },
        "id": "bIwXiBly9QI7",
        "outputId": "bdacfbbe-7713-40e3-d045-446e239db0cd"
      },
      "execution_count": null,
      "outputs": [
        {
          "output_type": "stream",
          "name": "stdout",
          "text": [
            "['Ann', 'Liz', 'Matt', 'Mary', 'Verghese', 'A', 'L', 'M', 'M', 'V']\n",
            "['A', 'L', 'M', 'M', 'V']\n"
          ]
        }
      ]
    },
    {
      "cell_type": "code",
      "source": [
        "x=[1,2,3,4,5,3,5,7,3,8,3]\n",
        "x.count(3)"
      ],
      "metadata": {
        "colab": {
          "base_uri": "https://localhost:8080/"
        },
        "id": "Lt_Ot0aJ-S5g",
        "outputId": "c1eba0b4-723e-4fc9-e48d-db0e9fa06a42"
      },
      "execution_count": null,
      "outputs": [
        {
          "output_type": "execute_result",
          "data": {
            "text/plain": [
              "4"
            ]
          },
          "metadata": {},
          "execution_count": 60
        }
      ]
    },
    {
      "cell_type": "code",
      "source": [
        "x=[\"Ann\", \"Liz\", \"Matt\", \"Mary\"]\n",
        "x[1:3] = [\"Sarah\", \"Ben\"]\n",
        "print(x)"
      ],
      "metadata": {
        "colab": {
          "base_uri": "https://localhost:8080/"
        },
        "id": "sRP-0_rH-5eV",
        "outputId": "0d6efb30-94af-453f-867e-8039557c5a90"
      },
      "execution_count": null,
      "outputs": [
        {
          "output_type": "stream",
          "name": "stdout",
          "text": [
            "['Ann', 'Sarah', 'Ben', 'Mary']\n"
          ]
        }
      ]
    },
    {
      "cell_type": "code",
      "source": [
        "x=[\"Ann\", \"Liz\", \"Matt\", \"Mary\"]\n",
        "x.insert(3, \"Liju\") #add new data anywhere within list\n",
        "print(x)"
      ],
      "metadata": {
        "colab": {
          "base_uri": "https://localhost:8080/"
        },
        "id": "IuSy4RajATm_",
        "outputId": "8f56250d-2140-4776-ddd8-ed05087c2a42"
      },
      "execution_count": null,
      "outputs": [
        {
          "output_type": "stream",
          "name": "stdout",
          "text": [
            "['Ann', 'Liz', 'Matt', 'Liju', 'Mary']\n"
          ]
        }
      ]
    },
    {
      "cell_type": "code",
      "source": [
        "x=[\"Ann\", \"Liz\", \"Matt\", \"Mary\"]\n",
        "x.remove(\"Mary\")\n",
        "print(x)"
      ],
      "metadata": {
        "colab": {
          "base_uri": "https://localhost:8080/"
        },
        "id": "-wg53UnDBTlk",
        "outputId": "6b22d104-acca-46f4-c298-41c0a995c772"
      },
      "execution_count": null,
      "outputs": [
        {
          "output_type": "stream",
          "name": "stdout",
          "text": [
            "['Ann', 'Liz', 'Matt']\n"
          ]
        }
      ]
    },
    {
      "cell_type": "code",
      "source": [
        "x=[\"Ann\", \"Liz\", \"Matt\", \"Mary\"]\n",
        "del x[0:2]\n",
        "print (x)"
      ],
      "metadata": {
        "colab": {
          "base_uri": "https://localhost:8080/"
        },
        "id": "5UzGeSE0CRyf",
        "outputId": "da1f7967-6010-4a7f-86de-8063eed8891d"
      },
      "execution_count": null,
      "outputs": [
        {
          "output_type": "stream",
          "name": "stdout",
          "text": [
            "['Matt', 'Mary']\n"
          ]
        }
      ]
    },
    {
      "cell_type": "code",
      "source": [],
      "metadata": {
        "id": "UpzfJLH1DCO9"
      },
      "execution_count": null,
      "outputs": []
    }
  ]
}