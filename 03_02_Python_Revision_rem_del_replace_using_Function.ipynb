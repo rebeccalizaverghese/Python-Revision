{
  "nbformat": 4,
  "nbformat_minor": 0,
  "metadata": {
    "colab": {
      "provenance": [],
      "authorship_tag": "ABX9TyMgUy/RLm+fxYPhB9AfXaRV",
      "include_colab_link": true
    },
    "kernelspec": {
      "name": "python3",
      "display_name": "Python 3"
    },
    "language_info": {
      "name": "python"
    }
  },
  "cells": [
    {
      "cell_type": "markdown",
      "metadata": {
        "id": "view-in-github",
        "colab_type": "text"
      },
      "source": [
        "<a href=\"https://colab.research.google.com/github/rebeccalizaverghese/Python-Revision/blob/main/03_02_Python_Revision_rem_del_replace_using_Function.ipynb\" target=\"_parent\"><img src=\"https://colab.research.google.com/assets/colab-badge.svg\" alt=\"Open In Colab\"/></a>"
      ]
    },
    {
      "cell_type": "code",
      "execution_count": null,
      "metadata": {
        "id": "VbBQVdGhYCbn"
      },
      "outputs": [],
      "source": [
        "x=[1,3,5,2,4,7,6,8,10,12]\n",
        "def listsum(x):\n",
        "  print(sum(x))"
      ]
    },
    {
      "cell_type": "code",
      "source": [
        "list(x)"
      ],
      "metadata": {
        "colab": {
          "base_uri": "https://localhost:8080/"
        },
        "id": "z7s8wvSBZUgJ",
        "outputId": "c0ddc89b-f921-462d-c827-249c4437fe0c"
      },
      "execution_count": null,
      "outputs": [
        {
          "output_type": "stream",
          "name": "stdout",
          "text": [
            "58\n"
          ]
        }
      ]
    },
    {
      "cell_type": "code",
      "source": [
        "x=[1,3,5,2,4,7,6,8,10,12]\n",
        "def listodd(x):\n",
        "  for i in x:\n",
        "    if i%2!=0:# '%'=> remainder      '!= => not equal to\n",
        "       print(i,\"is odd\")\n",
        "  "
      ],
      "metadata": {
        "id": "_IZ6bvSmaKht"
      },
      "execution_count": null,
      "outputs": []
    },
    {
      "cell_type": "code",
      "source": [
        "listodd(x)"
      ],
      "metadata": {
        "colab": {
          "base_uri": "https://localhost:8080/"
        },
        "id": "LJv1jMxVcMWQ",
        "outputId": "f30b0a8a-83e5-462f-cc7b-f99caa20c5e2"
      },
      "execution_count": null,
      "outputs": [
        {
          "output_type": "stream",
          "name": "stdout",
          "text": [
            "1 is odd\n",
            "3 is odd\n",
            "5 is odd\n",
            "7 is odd\n"
          ]
        }
      ]
    },
    {
      "cell_type": "code",
      "source": [
        "x=[1,3,5,2,4,7,6,8,10,12]\n",
        "def listeven(x):\n",
        "  for i in x:\n",
        "    if i%2==0:\n",
        "      print(i,\"is even\")"
      ],
      "metadata": {
        "id": "ANtkjUPUcOoT"
      },
      "execution_count": null,
      "outputs": []
    },
    {
      "cell_type": "code",
      "source": [
        "listeven(x)"
      ],
      "metadata": {
        "colab": {
          "base_uri": "https://localhost:8080/"
        },
        "id": "VMmqgz98cfci",
        "outputId": "83f58c21-517d-47df-ee4b-66381a6538fe"
      },
      "execution_count": null,
      "outputs": [
        {
          "output_type": "stream",
          "name": "stdout",
          "text": [
            "2 is even\n",
            "4 is even\n",
            "6 is even\n",
            "8 is even\n",
            "10 is even\n",
            "12 is even\n"
          ]
        }
      ]
    },
    {
      "cell_type": "code",
      "source": [
        "x=[1,3,5,2,4,7,6,8,10,12]\n",
        "def listrem(x):\n",
        "  for i in x:\n",
        "    if i%2!=0:\n",
        "      x.remove(i)\n",
        "  print(x)"
      ],
      "metadata": {
        "id": "f51uIW4Ecjaa"
      },
      "execution_count": null,
      "outputs": []
    },
    {
      "cell_type": "code",
      "source": [
        "listrem(x)"
      ],
      "metadata": {
        "colab": {
          "base_uri": "https://localhost:8080/"
        },
        "id": "429QQBWzeXpq",
        "outputId": "65d017cc-f54b-4fa2-88e0-79c14fe42177"
      },
      "execution_count": null,
      "outputs": [
        {
          "output_type": "stream",
          "name": "stdout",
          "text": [
            "[3, 2, 4, 6, 8, 10, 12]\n"
          ]
        }
      ]
    },
    {
      "cell_type": "code",
      "source": [
        "x=\"Python is a high-level, general-purpose programming language.\"\n",
        "y=[\"a\",\"e\",\"i\",\"o\",\"u\"]\n",
        "def remvowel(z):\n",
        "  for i in z:\n",
        "   if i in y:\n",
        "       z=z.replace(i,\"\")\n",
        "  print(z)\n",
        "remvowel(z)\n"
      ],
      "metadata": {
        "colab": {
          "base_uri": "https://localhost:8080/"
        },
        "id": "TwIie0z0eewR",
        "outputId": "0b15cf27-e2e8-43f5-8a7e-9c2ccf05d339"
      },
      "execution_count": null,
      "outputs": [
        {
          "output_type": "stream",
          "name": "stdout",
          "text": [
            "Pythn s  hgh-lvl, gnrl-prps prgrmmng lngg.\n"
          ]
        }
      ]
    },
    {
      "cell_type": "code",
      "source": [],
      "metadata": {
        "id": "VvkbyqbsrQTR"
      },
      "execution_count": null,
      "outputs": []
    },
    {
      "cell_type": "code",
      "source": [],
      "metadata": {
        "id": "ZMeQ_T_gf2Wl"
      },
      "execution_count": null,
      "outputs": []
    },
    {
      "cell_type": "code",
      "source": [],
      "metadata": {
        "id": "NBnL3GxlhLzP"
      },
      "execution_count": null,
      "outputs": []
    }
  ]
}