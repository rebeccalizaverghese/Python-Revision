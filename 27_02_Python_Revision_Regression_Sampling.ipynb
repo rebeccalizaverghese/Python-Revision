{
  "nbformat": 4,
  "nbformat_minor": 0,
  "metadata": {
    "colab": {
      "provenance": [],
      "authorship_tag": "ABX9TyPd/L8bEkkgf8uCB9CbdOBk",
      "include_colab_link": true
    },
    "kernelspec": {
      "name": "python3",
      "display_name": "Python 3"
    },
    "language_info": {
      "name": "python"
    }
  },
  "cells": [
    {
      "cell_type": "markdown",
      "metadata": {
        "id": "view-in-github",
        "colab_type": "text"
      },
      "source": [
        "<a href=\"https://colab.research.google.com/github/rebeccalizaverghese/Python-Revision/blob/main/27_02_Python_Revision_Regression_Sampling.ipynb\" target=\"_parent\"><img src=\"https://colab.research.google.com/assets/colab-badge.svg\" alt=\"Open In Colab\"/></a>"
      ]
    },
    {
      "cell_type": "code",
      "source": [
        "import numpy as np\n",
        "import matplotlib.pyplot as plt\n",
        "import pandas as pd"
      ],
      "metadata": {
        "id": "Yd3F0WqxIGiZ"
      },
      "execution_count": 2,
      "outputs": []
    },
    {
      "cell_type": "code",
      "source": [
        "df=pd.read_csv('/content/SBIN.NS.csv')\n",
        "df"
      ],
      "metadata": {
        "colab": {
          "base_uri": "https://localhost:8080/",
          "height": 423
        },
        "id": "tgr41J4_IS1h",
        "outputId": "85e30fcb-e367-46a7-cd9c-bdee098f3e3e"
      },
      "execution_count": 4,
      "outputs": [
        {
          "output_type": "execute_result",
          "data": {
            "text/plain": [
              "     Date        Open\n",
              "0       1  476.899994\n",
              "1       2  478.000000\n",
              "2       3  480.000000\n",
              "3       4  460.299988\n",
              "4       5  447.500000\n",
              "..    ...         ...\n",
              "244   245  527.099976\n",
              "245   246  520.750000\n",
              "246   247  516.950012\n",
              "247   248  524.200012\n",
              "248   249  521.099976\n",
              "\n",
              "[249 rows x 2 columns]"
            ],
            "text/html": [
              "\n",
              "  <div id=\"df-65972339-f997-4c42-a416-22f15e6b8484\">\n",
              "    <div class=\"colab-df-container\">\n",
              "      <div>\n",
              "<style scoped>\n",
              "    .dataframe tbody tr th:only-of-type {\n",
              "        vertical-align: middle;\n",
              "    }\n",
              "\n",
              "    .dataframe tbody tr th {\n",
              "        vertical-align: top;\n",
              "    }\n",
              "\n",
              "    .dataframe thead th {\n",
              "        text-align: right;\n",
              "    }\n",
              "</style>\n",
              "<table border=\"1\" class=\"dataframe\">\n",
              "  <thead>\n",
              "    <tr style=\"text-align: right;\">\n",
              "      <th></th>\n",
              "      <th>Date</th>\n",
              "      <th>Open</th>\n",
              "    </tr>\n",
              "  </thead>\n",
              "  <tbody>\n",
              "    <tr>\n",
              "      <th>0</th>\n",
              "      <td>1</td>\n",
              "      <td>476.899994</td>\n",
              "    </tr>\n",
              "    <tr>\n",
              "      <th>1</th>\n",
              "      <td>2</td>\n",
              "      <td>478.000000</td>\n",
              "    </tr>\n",
              "    <tr>\n",
              "      <th>2</th>\n",
              "      <td>3</td>\n",
              "      <td>480.000000</td>\n",
              "    </tr>\n",
              "    <tr>\n",
              "      <th>3</th>\n",
              "      <td>4</td>\n",
              "      <td>460.299988</td>\n",
              "    </tr>\n",
              "    <tr>\n",
              "      <th>4</th>\n",
              "      <td>5</td>\n",
              "      <td>447.500000</td>\n",
              "    </tr>\n",
              "    <tr>\n",
              "      <th>...</th>\n",
              "      <td>...</td>\n",
              "      <td>...</td>\n",
              "    </tr>\n",
              "    <tr>\n",
              "      <th>244</th>\n",
              "      <td>245</td>\n",
              "      <td>527.099976</td>\n",
              "    </tr>\n",
              "    <tr>\n",
              "      <th>245</th>\n",
              "      <td>246</td>\n",
              "      <td>520.750000</td>\n",
              "    </tr>\n",
              "    <tr>\n",
              "      <th>246</th>\n",
              "      <td>247</td>\n",
              "      <td>516.950012</td>\n",
              "    </tr>\n",
              "    <tr>\n",
              "      <th>247</th>\n",
              "      <td>248</td>\n",
              "      <td>524.200012</td>\n",
              "    </tr>\n",
              "    <tr>\n",
              "      <th>248</th>\n",
              "      <td>249</td>\n",
              "      <td>521.099976</td>\n",
              "    </tr>\n",
              "  </tbody>\n",
              "</table>\n",
              "<p>249 rows × 2 columns</p>\n",
              "</div>\n",
              "      <button class=\"colab-df-convert\" onclick=\"convertToInteractive('df-65972339-f997-4c42-a416-22f15e6b8484')\"\n",
              "              title=\"Convert this dataframe to an interactive table.\"\n",
              "              style=\"display:none;\">\n",
              "        \n",
              "  <svg xmlns=\"http://www.w3.org/2000/svg\" height=\"24px\"viewBox=\"0 0 24 24\"\n",
              "       width=\"24px\">\n",
              "    <path d=\"M0 0h24v24H0V0z\" fill=\"none\"/>\n",
              "    <path d=\"M18.56 5.44l.94 2.06.94-2.06 2.06-.94-2.06-.94-.94-2.06-.94 2.06-2.06.94zm-11 1L8.5 8.5l.94-2.06 2.06-.94-2.06-.94L8.5 2.5l-.94 2.06-2.06.94zm10 10l.94 2.06.94-2.06 2.06-.94-2.06-.94-.94-2.06-.94 2.06-2.06.94z\"/><path d=\"M17.41 7.96l-1.37-1.37c-.4-.4-.92-.59-1.43-.59-.52 0-1.04.2-1.43.59L10.3 9.45l-7.72 7.72c-.78.78-.78 2.05 0 2.83L4 21.41c.39.39.9.59 1.41.59.51 0 1.02-.2 1.41-.59l7.78-7.78 2.81-2.81c.8-.78.8-2.07 0-2.86zM5.41 20L4 18.59l7.72-7.72 1.47 1.35L5.41 20z\"/>\n",
              "  </svg>\n",
              "      </button>\n",
              "      \n",
              "  <style>\n",
              "    .colab-df-container {\n",
              "      display:flex;\n",
              "      flex-wrap:wrap;\n",
              "      gap: 12px;\n",
              "    }\n",
              "\n",
              "    .colab-df-convert {\n",
              "      background-color: #E8F0FE;\n",
              "      border: none;\n",
              "      border-radius: 50%;\n",
              "      cursor: pointer;\n",
              "      display: none;\n",
              "      fill: #1967D2;\n",
              "      height: 32px;\n",
              "      padding: 0 0 0 0;\n",
              "      width: 32px;\n",
              "    }\n",
              "\n",
              "    .colab-df-convert:hover {\n",
              "      background-color: #E2EBFA;\n",
              "      box-shadow: 0px 1px 2px rgba(60, 64, 67, 0.3), 0px 1px 3px 1px rgba(60, 64, 67, 0.15);\n",
              "      fill: #174EA6;\n",
              "    }\n",
              "\n",
              "    [theme=dark] .colab-df-convert {\n",
              "      background-color: #3B4455;\n",
              "      fill: #D2E3FC;\n",
              "    }\n",
              "\n",
              "    [theme=dark] .colab-df-convert:hover {\n",
              "      background-color: #434B5C;\n",
              "      box-shadow: 0px 1px 3px 1px rgba(0, 0, 0, 0.15);\n",
              "      filter: drop-shadow(0px 1px 2px rgba(0, 0, 0, 0.3));\n",
              "      fill: #FFFFFF;\n",
              "    }\n",
              "  </style>\n",
              "\n",
              "      <script>\n",
              "        const buttonEl =\n",
              "          document.querySelector('#df-65972339-f997-4c42-a416-22f15e6b8484 button.colab-df-convert');\n",
              "        buttonEl.style.display =\n",
              "          google.colab.kernel.accessAllowed ? 'block' : 'none';\n",
              "\n",
              "        async function convertToInteractive(key) {\n",
              "          const element = document.querySelector('#df-65972339-f997-4c42-a416-22f15e6b8484');\n",
              "          const dataTable =\n",
              "            await google.colab.kernel.invokeFunction('convertToInteractive',\n",
              "                                                     [key], {});\n",
              "          if (!dataTable) return;\n",
              "\n",
              "          const docLinkHtml = 'Like what you see? Visit the ' +\n",
              "            '<a target=\"_blank\" href=https://colab.research.google.com/notebooks/data_table.ipynb>data table notebook</a>'\n",
              "            + ' to learn more about interactive tables.';\n",
              "          element.innerHTML = '';\n",
              "          dataTable['output_type'] = 'display_data';\n",
              "          await google.colab.output.renderOutput(dataTable, element);\n",
              "          const docLink = document.createElement('div');\n",
              "          docLink.innerHTML = docLinkHtml;\n",
              "          element.appendChild(docLink);\n",
              "        }\n",
              "      </script>\n",
              "    </div>\n",
              "  </div>\n",
              "  "
            ]
          },
          "metadata": {},
          "execution_count": 4
        }
      ]
    },
    {
      "cell_type": "code",
      "source": [
        "x=df.iloc[:,:-1].values\n",
        "x"
      ],
      "metadata": {
        "colab": {
          "base_uri": "https://localhost:8080/"
        },
        "id": "miJj1_EIIdkb",
        "outputId": "bd78a25c-9b4c-49f8-aa65-ec32405c5dce"
      },
      "execution_count": 7,
      "outputs": [
        {
          "output_type": "execute_result",
          "data": {
            "text/plain": [
              "array([[  1],\n",
              "       [  2],\n",
              "       [  3],\n",
              "       [  4],\n",
              "       [  5],\n",
              "       [  6],\n",
              "       [  7],\n",
              "       [  8],\n",
              "       [  9],\n",
              "       [ 10],\n",
              "       [ 11],\n",
              "       [ 12],\n",
              "       [ 13],\n",
              "       [ 14],\n",
              "       [ 15],\n",
              "       [ 16],\n",
              "       [ 17],\n",
              "       [ 18],\n",
              "       [ 19],\n",
              "       [ 20],\n",
              "       [ 21],\n",
              "       [ 22],\n",
              "       [ 23],\n",
              "       [ 24],\n",
              "       [ 25],\n",
              "       [ 26],\n",
              "       [ 27],\n",
              "       [ 28],\n",
              "       [ 29],\n",
              "       [ 30],\n",
              "       [ 31],\n",
              "       [ 32],\n",
              "       [ 33],\n",
              "       [ 34],\n",
              "       [ 35],\n",
              "       [ 36],\n",
              "       [ 37],\n",
              "       [ 38],\n",
              "       [ 39],\n",
              "       [ 40],\n",
              "       [ 41],\n",
              "       [ 42],\n",
              "       [ 43],\n",
              "       [ 44],\n",
              "       [ 45],\n",
              "       [ 46],\n",
              "       [ 47],\n",
              "       [ 48],\n",
              "       [ 49],\n",
              "       [ 50],\n",
              "       [ 51],\n",
              "       [ 52],\n",
              "       [ 53],\n",
              "       [ 54],\n",
              "       [ 55],\n",
              "       [ 56],\n",
              "       [ 57],\n",
              "       [ 58],\n",
              "       [ 59],\n",
              "       [ 60],\n",
              "       [ 61],\n",
              "       [ 62],\n",
              "       [ 63],\n",
              "       [ 64],\n",
              "       [ 65],\n",
              "       [ 66],\n",
              "       [ 67],\n",
              "       [ 68],\n",
              "       [ 69],\n",
              "       [ 70],\n",
              "       [ 71],\n",
              "       [ 72],\n",
              "       [ 73],\n",
              "       [ 74],\n",
              "       [ 75],\n",
              "       [ 76],\n",
              "       [ 77],\n",
              "       [ 78],\n",
              "       [ 79],\n",
              "       [ 80],\n",
              "       [ 81],\n",
              "       [ 82],\n",
              "       [ 83],\n",
              "       [ 84],\n",
              "       [ 85],\n",
              "       [ 86],\n",
              "       [ 87],\n",
              "       [ 88],\n",
              "       [ 89],\n",
              "       [ 90],\n",
              "       [ 91],\n",
              "       [ 92],\n",
              "       [ 93],\n",
              "       [ 94],\n",
              "       [ 95],\n",
              "       [ 96],\n",
              "       [ 97],\n",
              "       [ 98],\n",
              "       [ 99],\n",
              "       [100],\n",
              "       [101],\n",
              "       [102],\n",
              "       [103],\n",
              "       [104],\n",
              "       [105],\n",
              "       [106],\n",
              "       [107],\n",
              "       [108],\n",
              "       [109],\n",
              "       [110],\n",
              "       [111],\n",
              "       [112],\n",
              "       [113],\n",
              "       [114],\n",
              "       [115],\n",
              "       [116],\n",
              "       [117],\n",
              "       [118],\n",
              "       [119],\n",
              "       [120],\n",
              "       [121],\n",
              "       [122],\n",
              "       [123],\n",
              "       [124],\n",
              "       [125],\n",
              "       [126],\n",
              "       [127],\n",
              "       [128],\n",
              "       [129],\n",
              "       [130],\n",
              "       [131],\n",
              "       [132],\n",
              "       [133],\n",
              "       [134],\n",
              "       [135],\n",
              "       [136],\n",
              "       [137],\n",
              "       [138],\n",
              "       [139],\n",
              "       [140],\n",
              "       [141],\n",
              "       [142],\n",
              "       [143],\n",
              "       [144],\n",
              "       [145],\n",
              "       [146],\n",
              "       [147],\n",
              "       [148],\n",
              "       [149],\n",
              "       [150],\n",
              "       [151],\n",
              "       [152],\n",
              "       [153],\n",
              "       [154],\n",
              "       [155],\n",
              "       [156],\n",
              "       [157],\n",
              "       [158],\n",
              "       [159],\n",
              "       [160],\n",
              "       [161],\n",
              "       [162],\n",
              "       [163],\n",
              "       [164],\n",
              "       [165],\n",
              "       [166],\n",
              "       [167],\n",
              "       [168],\n",
              "       [169],\n",
              "       [170],\n",
              "       [171],\n",
              "       [172],\n",
              "       [173],\n",
              "       [174],\n",
              "       [175],\n",
              "       [176],\n",
              "       [177],\n",
              "       [178],\n",
              "       [179],\n",
              "       [180],\n",
              "       [181],\n",
              "       [182],\n",
              "       [183],\n",
              "       [184],\n",
              "       [185],\n",
              "       [186],\n",
              "       [187],\n",
              "       [188],\n",
              "       [189],\n",
              "       [190],\n",
              "       [191],\n",
              "       [192],\n",
              "       [193],\n",
              "       [194],\n",
              "       [195],\n",
              "       [196],\n",
              "       [197],\n",
              "       [198],\n",
              "       [199],\n",
              "       [200],\n",
              "       [201],\n",
              "       [202],\n",
              "       [203],\n",
              "       [204],\n",
              "       [205],\n",
              "       [206],\n",
              "       [207],\n",
              "       [208],\n",
              "       [209],\n",
              "       [210],\n",
              "       [211],\n",
              "       [212],\n",
              "       [213],\n",
              "       [214],\n",
              "       [215],\n",
              "       [216],\n",
              "       [217],\n",
              "       [218],\n",
              "       [219],\n",
              "       [220],\n",
              "       [221],\n",
              "       [222],\n",
              "       [223],\n",
              "       [224],\n",
              "       [225],\n",
              "       [226],\n",
              "       [227],\n",
              "       [228],\n",
              "       [229],\n",
              "       [230],\n",
              "       [231],\n",
              "       [232],\n",
              "       [233],\n",
              "       [234],\n",
              "       [235],\n",
              "       [236],\n",
              "       [237],\n",
              "       [238],\n",
              "       [239],\n",
              "       [240],\n",
              "       [241],\n",
              "       [242],\n",
              "       [243],\n",
              "       [244],\n",
              "       [245],\n",
              "       [246],\n",
              "       [247],\n",
              "       [248],\n",
              "       [249]])"
            ]
          },
          "metadata": {},
          "execution_count": 7
        }
      ]
    },
    {
      "cell_type": "code",
      "source": [
        "y=df.iloc[:,-1].values\n",
        "y"
      ],
      "metadata": {
        "colab": {
          "base_uri": "https://localhost:8080/"
        },
        "id": "Mt5bOn-jIkXp",
        "outputId": "64e545cb-7aa7-44ab-e1ec-c5df81374757"
      },
      "execution_count": 8,
      "outputs": [
        {
          "output_type": "execute_result",
          "data": {
            "text/plain": [
              "array([476.899994, 478.      , 480.      , 460.299988, 447.5     ,\n",
              "       438.      , 442.      , 469.899994, 466.399994, 471.      ,\n",
              "       489.      , 493.      , 499.      , 502.      , 490.600006,\n",
              "       498.5     , 485.      , 491.75    , 490.950012, 500.      ,\n",
              "       499.299988, 494.299988, 491.      , 509.299988, 514.400024,\n",
              "       507.      , 510.049988, 519.5     , 513.5     , 512.75    ,\n",
              "       514.299988, 512.      , 513.25    , 512.      , 513.400024,\n",
              "       512.900024, 495.      , 499.      , 500.      , 499.149994,\n",
              "       508.100006, 492.649994, 492.      , 485.      , 471.      ,\n",
              "       477.100006, 477.      , 475.25    , 473.      , 469.450012,\n",
              "       445.      , 458.299988, 467.899994, 449.049988, 454.850006,\n",
              "       463.100006, 462.399994, 461.      , 456.850006, 471.399994,\n",
              "       473.      , 474.      , 468.      , 466.899994, 473.25    ,\n",
              "       464.200012, 461.850006, 466.600006, 468.950012, 462.      ,\n",
              "       454.      , 445.      , 448.950012, 455.149994, 440.      ,\n",
              "       441.5     , 439.5     , 448.75    , 449.      , 455.799988,\n",
              "       459.950012, 458.899994, 460.      , 459.      , 463.350006,\n",
              "       466.850006, 475.149994, 475.149994, 484.      , 489.      ,\n",
              "       485.      , 485.      , 487.75    , 486.600006, 482.549988,\n",
              "       484.549988, 488.      , 501.      , 509.799988, 513.450012,\n",
              "       513.400024, 517.700012, 515.299988, 533.200012, 535.049988,\n",
              "       529.049988, 531.900024, 541.900024, 543.650024, 535.549988,\n",
              "       524.      , 521.549988, 520.      , 525.700012, 533.299988,\n",
              "       528.849976, 526.849976, 532.      , 519.      , 508.25    ,\n",
              "       519.      , 521.950012, 523.799988, 511.299988, 518.200012,\n",
              "       522.25    , 537.      , 537.      , 538.      , 534.400024,\n",
              "       536.      , 549.650024, 554.900024, 560.      , 550.      ,\n",
              "       572.549988, 569.099976, 560.700012, 577.950012, 575.      ,\n",
              "       566.75    , 564.799988, 545.799988, 544.549988, 532.900024,\n",
              "       529.      , 524.      , 527.599976, 533.      , 534.599976,\n",
              "       535.5     , 525.700012, 530.75    , 530.      , 533.      ,\n",
              "       530.200012, 526.400024, 547.099976, 563.      , 552.      ,\n",
              "       557.25    , 567.      , 572.5     , 583.950012, 579.950012,\n",
              "       574.950012, 576.349976, 575.900024, 569.      , 586.      ,\n",
              "       613.      , 621.      , 613.099976, 617.25    , 603.950012,\n",
              "       594.299988, 599.950012, 599.099976, 601.      , 602.099976,\n",
              "       598.150024, 601.549988, 609.75    , 610.549988, 605.599976,\n",
              "       607.099976, 608.5     , 607.849976, 607.5     , 608.5     ,\n",
              "       614.75    , 610.849976, 609.75    , 614.400024, 614.799988,\n",
              "       613.5     , 618.5     , 625.549988, 612.      , 604.      ,\n",
              "       603.      , 605.900024, 597.      , 590.      , 574.      ,\n",
              "       600.400024, 600.900024, 600.      , 615.25    , 614.950012,\n",
              "       614.5     , 611.849976, 607.      , 607.400024, 605.      ,\n",
              "       608.450012, 596.450012, 597.900024, 597.900024, 603.      ,\n",
              "       603.      , 595.900024, 591.      , 593.799988, 598.5     ,\n",
              "       603.5     , 595.849976, 568.      , 536.      , 545.      ,\n",
              "       561.400024, 520.200012, 536.      , 558.799988, 548.      ,\n",
              "       550.      , 552.      , 546.5     , 554.      , 539.950012,\n",
              "       540.      , 546.849976, 538.5     , 532.      , 527.099976,\n",
              "       520.75    , 516.950012, 524.200012, 521.099976])"
            ]
          },
          "metadata": {},
          "execution_count": 8
        }
      ]
    },
    {
      "cell_type": "code",
      "execution_count": 16,
      "metadata": {
        "id": "nvp159OyHsTY"
      },
      "outputs": [],
      "source": [
        "#Sampling\n",
        "#80% data used to predict regression line --- 20% data to test working of data\n",
        "#train data - data available for regression\n",
        "#test data - data available for testing - trend line alligns with train data\n",
        "from sklearn.model_selection import train_test_split\n",
        "x_train, x_test, y_train, y_test = train_test_split(x,y, test_size = 0.2, random_state = 0)"
      ]
    },
    {
      "cell_type": "code",
      "source": [
        "from sklearn.linear_model import LinearRegression\n",
        "regressor= LinearRegression()\n",
        "regressor.fit(x_train,y_train)"
      ],
      "metadata": {
        "colab": {
          "base_uri": "https://localhost:8080/"
        },
        "id": "Ei3F_8AXIceS",
        "outputId": "f180c3b1-2105-4fe3-c39e-9b6bbc31ae37"
      },
      "execution_count": 17,
      "outputs": [
        {
          "output_type": "execute_result",
          "data": {
            "text/plain": [
              "LinearRegression()"
            ]
          },
          "metadata": {},
          "execution_count": 17
        }
      ]
    },
    {
      "cell_type": "code",
      "source": [
        "y_pred= regressor.predict(x_test)"
      ],
      "metadata": {
        "id": "RA5l8Bf9I8Aa"
      },
      "execution_count": 18,
      "outputs": []
    },
    {
      "cell_type": "code",
      "source": [
        "plt.scatter(x_test,y_test, color='purple') #since purple dots r close to trend line, data is accurate\n",
        "plt.scatter(x_train, y_train, color='blue')\n",
        "plt.plot(x_test, y_pred, color='green')\n",
        "plt.xlabel('Date')\n",
        "plt.ylabel('Stock Price')\n",
        "plt.show()"
      ],
      "metadata": {
        "colab": {
          "base_uri": "https://localhost:8080/",
          "height": 279
        },
        "id": "3sHUMWtGIFnR",
        "outputId": "ba439edc-aca7-467c-df1f-688570488408"
      },
      "execution_count": 19,
      "outputs": [
        {
          "output_type": "display_data",
          "data": {
            "text/plain": [
              "<Figure size 432x288 with 1 Axes>"
            ],
            "image/png": "[encoded data removed]"
          },
          "metadata": {
            "needs_background": "light"
          }
        }
      ]
    },
    {
      "cell_type": "code",
      "source": [],
      "metadata": {
        "id": "1Xj5WQ1HSUbc"
      },
      "execution_count": null,
      "outputs": []
    },
    {
      "cell_type": "code",
      "source": [],
      "metadata": {
        "id": "j7wgVDURSUMP"
      },
      "execution_count": null,
      "outputs": []
    },
    {
      "cell_type": "code",
      "source": [
        "x_questionbank = df.iloc[0:125, 0:1].values\n",
        "x_questionbank"
      ],
      "metadata": {
        "colab": {
          "base_uri": "https://localhost:8080/"
        },
        "id": "nKJxTdzLH_he",
        "outputId": "dbd43417-a8eb-4e27-e01f-e53b2283db91"
      },
      "execution_count": 57,
      "outputs": [
        {
          "output_type": "execute_result",
          "data": {
            "text/plain": [
              "array([[  1],\n",
              "       [  2],\n",
              "       [  3],\n",
              "       [  4],\n",
              "       [  5],\n",
              "       [  6],\n",
              "       [  7],\n",
              "       [  8],\n",
              "       [  9],\n",
              "       [ 10],\n",
              "       [ 11],\n",
              "       [ 12],\n",
              "       [ 13],\n",
              "       [ 14],\n",
              "       [ 15],\n",
              "       [ 16],\n",
              "       [ 17],\n",
              "       [ 18],\n",
              "       [ 19],\n",
              "       [ 20],\n",
              "       [ 21],\n",
              "       [ 22],\n",
              "       [ 23],\n",
              "       [ 24],\n",
              "       [ 25],\n",
              "       [ 26],\n",
              "       [ 27],\n",
              "       [ 28],\n",
              "       [ 29],\n",
              "       [ 30],\n",
              "       [ 31],\n",
              "       [ 32],\n",
              "       [ 33],\n",
              "       [ 34],\n",
              "       [ 35],\n",
              "       [ 36],\n",
              "       [ 37],\n",
              "       [ 38],\n",
              "       [ 39],\n",
              "       [ 40],\n",
              "       [ 41],\n",
              "       [ 42],\n",
              "       [ 43],\n",
              "       [ 44],\n",
              "       [ 45],\n",
              "       [ 46],\n",
              "       [ 47],\n",
              "       [ 48],\n",
              "       [ 49],\n",
              "       [ 50],\n",
              "       [ 51],\n",
              "       [ 52],\n",
              "       [ 53],\n",
              "       [ 54],\n",
              "       [ 55],\n",
              "       [ 56],\n",
              "       [ 57],\n",
              "       [ 58],\n",
              "       [ 59],\n",
              "       [ 60],\n",
              "       [ 61],\n",
              "       [ 62],\n",
              "       [ 63],\n",
              "       [ 64],\n",
              "       [ 65],\n",
              "       [ 66],\n",
              "       [ 67],\n",
              "       [ 68],\n",
              "       [ 69],\n",
              "       [ 70],\n",
              "       [ 71],\n",
              "       [ 72],\n",
              "       [ 73],\n",
              "       [ 74],\n",
              "       [ 75],\n",
              "       [ 76],\n",
              "       [ 77],\n",
              "       [ 78],\n",
              "       [ 79],\n",
              "       [ 80],\n",
              "       [ 81],\n",
              "       [ 82],\n",
              "       [ 83],\n",
              "       [ 84],\n",
              "       [ 85],\n",
              "       [ 86],\n",
              "       [ 87],\n",
              "       [ 88],\n",
              "       [ 89],\n",
              "       [ 90],\n",
              "       [ 91],\n",
              "       [ 92],\n",
              "       [ 93],\n",
              "       [ 94],\n",
              "       [ 95],\n",
              "       [ 96],\n",
              "       [ 97],\n",
              "       [ 98],\n",
              "       [ 99],\n",
              "       [100],\n",
              "       [101],\n",
              "       [102],\n",
              "       [103],\n",
              "       [104],\n",
              "       [105],\n",
              "       [106],\n",
              "       [107],\n",
              "       [108],\n",
              "       [109],\n",
              "       [110],\n",
              "       [111],\n",
              "       [112],\n",
              "       [113],\n",
              "       [114],\n",
              "       [115],\n",
              "       [116],\n",
              "       [117],\n",
              "       [118],\n",
              "       [119],\n",
              "       [120],\n",
              "       [121],\n",
              "       [122],\n",
              "       [123],\n",
              "       [124],\n",
              "       [125]])"
            ]
          },
          "metadata": {},
          "execution_count": 57
        }
      ]
    },
    {
      "cell_type": "code",
      "source": [
        "x_test = df.iloc[125:150, 0:1].values\n",
        "x_test"
      ],
      "metadata": {
        "colab": {
          "base_uri": "https://localhost:8080/"
        },
        "id": "TT-AXSwBIE9b",
        "outputId": "e32c5873-7bb4-4687-b300-c63663c5d212"
      },
      "execution_count": 59,
      "outputs": [
        {
          "output_type": "execute_result",
          "data": {
            "text/plain": [
              "array([[126],\n",
              "       [127],\n",
              "       [128],\n",
              "       [129],\n",
              "       [130],\n",
              "       [131],\n",
              "       [132],\n",
              "       [133],\n",
              "       [134],\n",
              "       [135],\n",
              "       [136],\n",
              "       [137],\n",
              "       [138],\n",
              "       [139],\n",
              "       [140],\n",
              "       [141],\n",
              "       [142],\n",
              "       [143],\n",
              "       [144],\n",
              "       [145],\n",
              "       [146],\n",
              "       [147],\n",
              "       [148],\n",
              "       [149],\n",
              "       [150]])"
            ]
          },
          "metadata": {},
          "execution_count": 59
        }
      ]
    },
    {
      "cell_type": "code",
      "source": [
        "y_questionbank = df.iloc[0:125, 1].values\n",
        "y_questionbank"
      ],
      "metadata": {
        "colab": {
          "base_uri": "https://localhost:8080/"
        },
        "id": "R6rBczYSPsGl",
        "outputId": "4605cdd3-f66b-4308-e3cb-9ee9955c83d3"
      },
      "execution_count": 60,
      "outputs": [
        {
          "output_type": "execute_result",
          "data": {
            "text/plain": [
              "array([476.899994, 478.      , 480.      , 460.299988, 447.5     ,\n",
              "       438.      , 442.      , 469.899994, 466.399994, 471.      ,\n",
              "       489.      , 493.      , 499.      , 502.      , 490.600006,\n",
              "       498.5     , 485.      , 491.75    , 490.950012, 500.      ,\n",
              "       499.299988, 494.299988, 491.      , 509.299988, 514.400024,\n",
              "       507.      , 510.049988, 519.5     , 513.5     , 512.75    ,\n",
              "       514.299988, 512.      , 513.25    , 512.      , 513.400024,\n",
              "       512.900024, 495.      , 499.      , 500.      , 499.149994,\n",
              "       508.100006, 492.649994, 492.      , 485.      , 471.      ,\n",
              "       477.100006, 477.      , 475.25    , 473.      , 469.450012,\n",
              "       445.      , 458.299988, 467.899994, 449.049988, 454.850006,\n",
              "       463.100006, 462.399994, 461.      , 456.850006, 471.399994,\n",
              "       473.      , 474.      , 468.      , 466.899994, 473.25    ,\n",
              "       464.200012, 461.850006, 466.600006, 468.950012, 462.      ,\n",
              "       454.      , 445.      , 448.950012, 455.149994, 440.      ,\n",
              "       441.5     , 439.5     , 448.75    , 449.      , 455.799988,\n",
              "       459.950012, 458.899994, 460.      , 459.      , 463.350006,\n",
              "       466.850006, 475.149994, 475.149994, 484.      , 489.      ,\n",
              "       485.      , 485.      , 487.75    , 486.600006, 482.549988,\n",
              "       484.549988, 488.      , 501.      , 509.799988, 513.450012,\n",
              "       513.400024, 517.700012, 515.299988, 533.200012, 535.049988,\n",
              "       529.049988, 531.900024, 541.900024, 543.650024, 535.549988,\n",
              "       524.      , 521.549988, 520.      , 525.700012, 533.299988,\n",
              "       528.849976, 526.849976, 532.      , 519.      , 508.25    ,\n",
              "       519.      , 521.950012, 523.799988, 511.299988, 518.200012])"
            ]
          },
          "metadata": {},
          "execution_count": 60
        }
      ]
    },
    {
      "cell_type": "code",
      "source": [
        "y_test = df.iloc[125:150, 1].values\n",
        "y_test"
      ],
      "metadata": {
        "colab": {
          "base_uri": "https://localhost:8080/"
        },
        "id": "qmgXbpmxP-uN",
        "outputId": "d88193c6-5480-4a78-9fe3-8c65a601e0d7"
      },
      "execution_count": 61,
      "outputs": [
        {
          "output_type": "execute_result",
          "data": {
            "text/plain": [
              "array([522.25    , 537.      , 537.      , 538.      , 534.400024,\n",
              "       536.      , 549.650024, 554.900024, 560.      , 550.      ,\n",
              "       572.549988, 569.099976, 560.700012, 577.950012, 575.      ,\n",
              "       566.75    , 564.799988, 545.799988, 544.549988, 532.900024,\n",
              "       529.      , 524.      , 527.599976, 533.      , 534.599976])"
            ]
          },
          "metadata": {},
          "execution_count": 61
        }
      ]
    },
    {
      "cell_type": "code",
      "source": [
        "from sklearn.linear_model import LinearRegression\n",
        "regressor = LinearRegression()\n",
        "regressor.fit(x_questionbank, y_questionbank)"
      ],
      "metadata": {
        "colab": {
          "base_uri": "https://localhost:8080/"
        },
        "id": "b58MQFkuQIzE",
        "outputId": "97641be7-aba8-4e06-c41f-6f671126db9a"
      },
      "execution_count": 62,
      "outputs": [
        {
          "output_type": "execute_result",
          "data": {
            "text/plain": [
              "LinearRegression()"
            ]
          },
          "metadata": {},
          "execution_count": 62
        }
      ]
    },
    {
      "cell_type": "code",
      "source": [
        "y_pred = regressor.predict(x_test)"
      ],
      "metadata": {
        "id": "DH23yrbtQcIk"
      },
      "execution_count": 63,
      "outputs": []
    },
    {
      "cell_type": "code",
      "source": [
        "plt.scatter(x_questionbank, y_questionbank, color = 'red')\n",
        "plt.scatter(x_test, y_test, color = 'purple')\n",
        "plt.plot(x_test, y_pred, color='blue')\n",
        "plt.xlabel('Date')\n",
        "plt.ylabel('Stock prices')"
      ],
      "metadata": {
        "colab": {
          "base_uri": "https://localhost:8080/",
          "height": 296
        },
        "id": "eM09R7sNQgxB",
        "outputId": "17e623df-da5b-4601-a26b-e418dd30fe59"
      },
      "execution_count": 64,
      "outputs": [
        {
          "output_type": "execute_result",
          "data": {
            "text/plain": [
              "Text(0, 0.5, 'Stock prices')"
            ]
          },
          "metadata": {},
          "execution_count": 64
        },
        {
          "output_type": "display_data",
          "data": {
            "text/plain": [
              "<Figure size 432x288 with 1 Axes>"
            ],
            "image/png": "[encoded data removed]"
          },
          "metadata": {
            "needs_background": "light"
          }
        }
      ]
    },
    {
      "cell_type": "code",
      "source": [],
      "metadata": {
        "id": "dG4bspNaRxaw"
      },
      "execution_count": null,
      "outputs": []
    }
  ]
}