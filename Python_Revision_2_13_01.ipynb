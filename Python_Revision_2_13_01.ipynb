{
  "nbformat": 4,
  "nbformat_minor": 0,
  "metadata": {
    "colab": {
      "provenance": [],
      "authorship_tag": "ABX9TyOGPamUDNu7bxOYe5sk35fP",
      "include_colab_link": true
    },
    "kernelspec": {
      "name": "python3",
      "display_name": "Python 3"
    },
    "language_info": {
      "name": "python"
    }
  },
  "cells": [
    {
      "cell_type": "markdown",
      "metadata": {
        "id": "view-in-github",
        "colab_type": "text"
      },
      "source": [
        "<a href=\"https://colab.research.google.com/github/rebeccalizaverghese/Python-Revision/blob/main/Python_Revision_2_13_01.ipynb\" target=\"_parent\"><img src=\"https://colab.research.google.com/assets/colab-badge.svg\" alt=\"Open In Colab\"/></a>"
      ]
    },
    {
      "cell_type": "code",
      "execution_count": null,
      "metadata": {
        "colab": {
          "base_uri": "https://localhost:8080/"
        },
        "id": "ky_jbYGdQYIP",
        "outputId": "5f817370-0417-47b5-e4db-b9f1f9389ae6"
      },
      "outputs": [
        {
          "output_type": "stream",
          "name": "stdout",
          "text": [
            "Enter HRA: 100000\n",
            "Enter Salary: 50000\n",
            "Enter Monthly Rent: 15000\n",
            "[100000, 120000.0, 300000.0]\n",
            "You are eligible for a HRA exemption of Rs 100000\n"
          ]
        }
      ],
      "source": [
        "hra=int(input(\"Enter HRA: \"))\n",
        "s=int(input(\"Enter Salary: \"))\n",
        "r=int(input(\"Enter Monthly Rent: \"))\n",
        "r1=hra\n",
        "r2=(r*12)-(10/100*(s*12))\n",
        "r3=50/100*(s*12)\n",
        "a=[r1,r2,r3]\n",
        "print(a)\n",
        "z=min(a)\n",
        "print(\"You are eligible for a HRA exemption of Rs\", z)\n",
        "if z>=150000 :\n",
        "  S=(s*12)+hra-150000\n",
        "else :\n",
        "  S=(s*12)+hra-z\n"
      ]
    },
    {
      "cell_type": "code",
      "source": [
        "print(S)"
      ],
      "metadata": {
        "colab": {
          "base_uri": "https://localhost:8080/"
        },
        "id": "pBLMw9PQR-gT",
        "outputId": "18b97add-9910-41fe-eecc-096226cf6e8e"
      },
      "execution_count": null,
      "outputs": [
        {
          "output_type": "stream",
          "name": "stdout",
          "text": [
            "600000\n"
          ]
        }
      ]
    },
    {
      "cell_type": "code",
      "source": [
        "x= S\n",
        "if x<=250000:\n",
        "  print(\"You are not taxable\")\n",
        "if x>250000 and x<=500000:\n",
        "  a=(x-250000)*5/100\n",
        "  print(\"You are taxable and amount is:\",a)\n",
        "if x>500000 and x<=750000:\n",
        "  b=(x-500000)*10/100 + (500000-250000)*5/100\n",
        "  print(\"You are taxable and amount is:\",b)\n",
        "if x>750000 and x<=1000000:\n",
        "  c=(x-750000)*15/100+(750000-500000)*10/100 + (500000-250000)*5/100\n",
        "  print(\"You are taxable and amount is:\",c)\n",
        "if x>1000000 and x<=1250000:\n",
        "  d=(x-1000000)*20/100+(1000000-750000)*15/100+(750000-500000)*10/100 + (500000-250000)*5/100\n",
        "  print(\"You are taxable and amount is:\",d)\n",
        "if x>1250000 and x<=1500000:\n",
        "  e=(x-1250000)*25/100+(1250000-1000000)*20/100+(1000000-750000)*15/100+(750000-500000)*10/100 + (500000-250000)*5/100\n",
        "  print(\"You are taxable and amount is:\",e)\n",
        "if x>1500000:\n",
        "  c=(x-1500000)*30/100+(1500000-1250000)*25/100+(1250000-1000000)*20/100+(1000000-750000)*15/100+(750000-500000)*10/100 + (500000-250000)*5/100\n",
        "  print(\"You are taxable and amount is:\",c)"
      ],
      "metadata": {
        "colab": {
          "base_uri": "https://localhost:8080/"
        },
        "id": "I78Qz0j5SfHU",
        "outputId": "be485e94-f644-41b3-c780-cf2539d78bde"
      },
      "execution_count": null,
      "outputs": [
        {
          "output_type": "stream",
          "name": "stdout",
          "text": [
            "You are taxable and amount is: 22500.0\n"
          ]
        }
      ]
    },
    {
      "cell_type": "code",
      "source": [],
      "metadata": {
        "id": "pXfap2SCdNxZ"
      },
      "execution_count": null,
      "outputs": []
    }
  ]
}