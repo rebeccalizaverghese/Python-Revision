{
  "nbformat": 4,
  "nbformat_minor": 0,
  "metadata": {
    "colab": {
      "provenance": [],
      "authorship_tag": "ABX9TyO3P01vZC/PhwuKer9Zy4HD",
      "include_colab_link": true
    },
    "kernelspec": {
      "name": "python3",
      "display_name": "Python 3"
    },
    "language_info": {
      "name": "python"
    }
  },
  "cells": [
    {
      "cell_type": "markdown",
      "metadata": {
        "id": "view-in-github",
        "colab_type": "text"
      },
      "source": [
        "<a href=\"https://colab.research.google.com/github/rebeccalizaverghese/Python-Revision/blob/main/30_01_Python_Revision_Strings.ipynb\" target=\"_parent\"><img src=\"https://colab.research.google.com/assets/colab-badge.svg\" alt=\"Open In Colab\"/></a>"
      ]
    },
    {
      "cell_type": "code",
      "execution_count": null,
      "metadata": {
        "colab": {
          "base_uri": "https://localhost:8080/"
        },
        "id": "xOr8rSgiww4L",
        "outputId": "50b91acb-e44a-4e1d-ea91-496ac486f920"
      },
      "outputs": [
        {
          "output_type": "stream",
          "name": "stdout",
          "text": [
            "This is \"Python\" programming\n"
          ]
        }
      ],
      "source": [
        "#STRINGS\n",
        "x= \"This is \\\"Python\\\" programming\"\n",
        "print(x)\n"
      ]
    },
    {
      "cell_type": "code",
      "source": [
        "x='He\\'s a doctor'\n",
        "print(x)"
      ],
      "metadata": {
        "colab": {
          "base_uri": "https://localhost:8080/"
        },
        "id": "GBxAWShkxHhA",
        "outputId": "4da04eca-6820-457c-a880-d409415417bf"
      },
      "execution_count": null,
      "outputs": [
        {
          "output_type": "stream",
          "name": "stdout",
          "text": [
            "He's a doctor\n"
          ]
        }
      ]
    },
    {
      "cell_type": "code",
      "source": [
        "x= \"Hello\\nWorld!\"\n",
        "print(x) # \"\\n\" => next line"
      ],
      "metadata": {
        "colab": {
          "base_uri": "https://localhost:8080/"
        },
        "id": "UoY8C9EuxSCO",
        "outputId": "e0cbd90e-9362-4a68-a5cc-b204f318f63d"
      },
      "execution_count": null,
      "outputs": [
        {
          "output_type": "stream",
          "name": "stdout",
          "text": [
            "Hello\n",
            "World!\n"
          ]
        }
      ]
    },
    {
      "cell_type": "code",
      "source": [
        "x= \"Hello\\tWorld!\"\n",
        "print(x) #'\\t' => tab"
      ],
      "metadata": {
        "colab": {
          "base_uri": "https://localhost:8080/"
        },
        "id": "vkbO0zlFxbsd",
        "outputId": "eab57718-0e28-4246-ab22-765b9900ce06"
      },
      "execution_count": null,
      "outputs": [
        {
          "output_type": "stream",
          "name": "stdout",
          "text": [
            "Hello\tWorld!\n"
          ]
        }
      ]
    },
    {
      "cell_type": "code",
      "source": [
        "print(\"\\\"Rebecca\\\" Liza Verghese\")"
      ],
      "metadata": {
        "colab": {
          "base_uri": "https://localhost:8080/"
        },
        "id": "iR9SMhahxl9W",
        "outputId": "60c5b36d-162c-421f-8e5e-5b9bd9f6c62e"
      },
      "execution_count": null,
      "outputs": [
        {
          "output_type": "stream",
          "name": "stdout",
          "text": [
            "\"Rebecca\" Liza Verghese\n"
          ]
        }
      ]
    },
    {
      "cell_type": "code",
      "source": [
        "print(\"He\\'s a doctor\")"
      ],
      "metadata": {
        "colab": {
          "base_uri": "https://localhost:8080/"
        },
        "id": "pui4RTngztcA",
        "outputId": "5d72cfa0-e9f7-4281-9951-a83d9e752fa6"
      },
      "execution_count": null,
      "outputs": [
        {
          "output_type": "stream",
          "name": "stdout",
          "text": [
            "He's a doctor\n"
          ]
        }
      ]
    },
    {
      "cell_type": "code",
      "source": [
        "print(\"Rebecca\\nLiza\\nVerghese\")"
      ],
      "metadata": {
        "colab": {
          "base_uri": "https://localhost:8080/"
        },
        "id": "ix_whqlj0ZQR",
        "outputId": "5df749b3-799d-4e28-b926-e1fd96ca4e96"
      },
      "execution_count": null,
      "outputs": [
        {
          "output_type": "stream",
          "name": "stdout",
          "text": [
            "Rebecca\n",
            "Liza\n",
            "Verghese\n"
          ]
        }
      ]
    },
    {
      "cell_type": "code",
      "source": [
        "x=[]\n",
        "for i in range(0,4,1):\n",
        "  n=input(\"Enter Name\")\n",
        "  a=int(input(\"Enter Index\"))\n",
        "  x.insert(a,n)\n",
        "x\n",
        "\n"
      ],
      "metadata": {
        "colab": {
          "base_uri": "https://localhost:8080/"
        },
        "id": "a6d61MfU1Iks",
        "outputId": "70997601-f22a-4a20-a630-d55e38282ded"
      },
      "execution_count": null,
      "outputs": [
        {
          "name": "stdout",
          "output_type": "stream",
          "text": [
            "Enter NameAnn\n",
            "Enter Index0\n",
            "Enter NameLiz\n",
            "Enter Index1\n",
            "Enter NameMatt\n",
            "Enter Index2\n",
            "Enter NameMary\n",
            "Enter Index3\n"
          ]
        },
        {
          "output_type": "execute_result",
          "data": {
            "text/plain": [
              "['Ann', 'Liz', 'Matt', 'Mary']"
            ]
          },
          "metadata": {},
          "execution_count": 23
        }
      ]
    },
    {
      "cell_type": "code",
      "source": [
        "x=[\"Ann\",\"Liz\",\"Matt\",\"Mary\"]\n",
        "y=int(input(\"Enter Index\"))\n",
        "n=input(\"Enter Name\")\n",
        "x.insert(y,n)\n",
        "print(x)\n"
      ],
      "metadata": {
        "colab": {
          "base_uri": "https://localhost:8080/"
        },
        "id": "6YLwslm510AU",
        "outputId": "92df929b-5894-4ee7-afc7-a50478884326"
      },
      "execution_count": null,
      "outputs": [
        {
          "output_type": "stream",
          "name": "stdout",
          "text": [
            "Enter Index4\n",
            "Enter NameLiju\n",
            "['Ann', 'Liz', 'Matt', 'Mary', 'Liju']\n"
          ]
        }
      ]
    },
    {
      "cell_type": "code",
      "source": [
        "# 'def' => define function that can be used to replace repitation of same set of commands\n",
        "def newname():\n",
        "  y=int(input(\"Enter Index\"))\n",
        "  n=input(\"Enter Name\")\n",
        "  x.insert(y,n)\n"
      ],
      "metadata": {
        "id": "4k89Ttvb5I1A"
      },
      "execution_count": null,
      "outputs": []
    },
    {
      "cell_type": "code",
      "source": [
        "newname()"
      ],
      "metadata": {
        "colab": {
          "base_uri": "https://localhost:8080/"
        },
        "id": "F4ERJpim9-kc",
        "outputId": "18b51978-97c1-4d9e-ccad-adc53da6f268"
      },
      "execution_count": null,
      "outputs": [
        {
          "name": "stdout",
          "output_type": "stream",
          "text": [
            "Enter Index5\n",
            "Enter NameRebecca\n"
          ]
        }
      ]
    },
    {
      "cell_type": "markdown",
      "source": [],
      "metadata": {
        "id": "yNx-IbI2_YLj"
      }
    },
    {
      "cell_type": "code",
      "source": [
        "print(x)"
      ],
      "metadata": {
        "colab": {
          "base_uri": "https://localhost:8080/"
        },
        "id": "Cymtgt6g-d3U",
        "outputId": "e8e4903c-fab2-424b-c662-0210cbea3b9f"
      },
      "execution_count": null,
      "outputs": [
        {
          "output_type": "stream",
          "name": "stdout",
          "text": [
            "['Ann', 'Liz', 'Matt', 'Mary', 'Liju', 'Rebecca']\n"
          ]
        }
      ]
    },
    {
      "cell_type": "code",
      "source": [
        "def values():\n",
        "  x=int(input(\"Enter Value\"))\n",
        "  y=int(input(\"Enter Value\"))\n",
        "  print(\"Sum\",x+y)\n",
        "  print(\"Difference\",x-y)\n",
        "  print(\"Product\",x*y)\n",
        "  print(\"Division\",x/y)"
      ],
      "metadata": {
        "id": "qQX7aCdb-jcU"
      },
      "execution_count": null,
      "outputs": []
    },
    {
      "cell_type": "code",
      "source": [
        "values()"
      ],
      "metadata": {
        "colab": {
          "base_uri": "https://localhost:8080/"
        },
        "id": "yhIVvUvK_CdM",
        "outputId": "258fb7d0-c01a-4dc7-9753-ff87a108f7f9"
      },
      "execution_count": null,
      "outputs": [
        {
          "output_type": "stream",
          "name": "stdout",
          "text": [
            "Enter Value33\n",
            "Enter Value3\n",
            "Sum 36\n",
            "Difference 30\n",
            "Product 99\n",
            "Division 11.0\n"
          ]
        }
      ]
    },
    {
      "cell_type": "code",
      "source": [
        "values()"
      ],
      "metadata": {
        "colab": {
          "base_uri": "https://localhost:8080/"
        },
        "id": "Ht3Ska65_IND",
        "outputId": "66ca2f0f-9fb3-4bdc-e9ae-3a8b4bff7203"
      },
      "execution_count": null,
      "outputs": [
        {
          "output_type": "stream",
          "name": "stdout",
          "text": [
            "Enter Value65\n",
            "Enter Value35\n",
            "Sum 100\n",
            "Difference 30\n",
            "Product 2275\n",
            "Division 1.8571428571428572\n"
          ]
        }
      ]
    },
    {
      "cell_type": "code",
      "source": [
        "def math(a,b):\n",
        "  print(a+b)"
      ],
      "metadata": {
        "id": "DGIHQtBPC_gQ"
      },
      "execution_count": null,
      "outputs": []
    },
    {
      "cell_type": "code",
      "source": [
        "x=int(input(\"Enter Value\"))\n",
        "y=int(input(\"Enter Value\"))\n",
        "math(x,y) # x will be stored in a, y will be stored in b"
      ],
      "metadata": {
        "colab": {
          "base_uri": "https://localhost:8080/"
        },
        "id": "V1AKnANeEBBP",
        "outputId": "6b2d6ab9-1316-4985-a230-188e10e10bd4"
      },
      "execution_count": null,
      "outputs": [
        {
          "output_type": "stream",
          "name": "stdout",
          "text": [
            "Enter Value30\n",
            "Enter Value3\n",
            "33\n"
          ]
        }
      ]
    },
    {
      "cell_type": "code",
      "source": [
        "def add():\n",
        "  x=int(input(\"Enter Value\"))\n",
        "  y=int(input(\"Enter Value\"))\n",
        "  print(\"Sum\",x+y)"
      ],
      "metadata": {
        "id": "GOyU9Kr3EI61"
      },
      "execution_count": null,
      "outputs": []
    },
    {
      "cell_type": "code",
      "source": [
        "def subtract():\n",
        "  x=int(input(\"Enter Value\"))\n",
        "  y=int(input(\"Enter Value\"))\n",
        "  print(\"Difference\",x-y)"
      ],
      "metadata": {
        "id": "CkrvaUwREUnt"
      },
      "execution_count": null,
      "outputs": []
    },
    {
      "cell_type": "code",
      "source": [
        "def multiply():\n",
        "  x=int(input(\"Enter Value\"))\n",
        "  y=int(input(\"Enter Value\"))\n",
        "  print(\"Product\",x*y)\n"
      ],
      "metadata": {
        "id": "OmQI90lzFf1Y"
      },
      "execution_count": null,
      "outputs": []
    },
    {
      "cell_type": "code",
      "source": [
        "def divide():\n",
        "  x=int(input(\"Enter Value\"))\n",
        "  y=int(input(\"Enter Value\"))\n",
        "  print(\"Division\", x/y)"
      ],
      "metadata": {
        "id": "XlJiN_h1Fn3H"
      },
      "execution_count": null,
      "outputs": []
    },
    {
      "cell_type": "code",
      "source": [
        "add()\n",
        "subtract()\n",
        "multiply()\n",
        "divide()"
      ],
      "metadata": {
        "colab": {
          "base_uri": "https://localhost:8080/"
        },
        "id": "ESnr11PWFspX",
        "outputId": "1d29b404-5e09-4725-8e62-bd5cbb807ed6"
      },
      "execution_count": null,
      "outputs": [
        {
          "output_type": "stream",
          "name": "stdout",
          "text": [
            "Enter Value30\n",
            "Enter Value3\n",
            "Sum 33\n",
            "Enter Value36\n",
            "Enter Value3\n",
            "Difference 33\n",
            "Enter Value3\n",
            "Enter Value11\n",
            "Product 33\n",
            "Enter Value99\n",
            "Enter Value3\n",
            "Division 33.0\n"
          ]
        }
      ]
    },
    {
      "cell_type": "code",
      "source": [],
      "metadata": {
        "id": "0k7BJQcaFyP4"
      },
      "execution_count": null,
      "outputs": []
    }
  ]
}