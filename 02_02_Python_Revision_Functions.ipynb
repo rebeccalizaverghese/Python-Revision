{
  "nbformat": 4,
  "nbformat_minor": 0,
  "metadata": {
    "colab": {
      "provenance": [],
      "authorship_tag": "ABX9TyPgDisNbZ7OT4FcOUnwd0BZ",
      "include_colab_link": true
    },
    "kernelspec": {
      "name": "python3",
      "display_name": "Python 3"
    },
    "language_info": {
      "name": "python"
    }
  },
  "cells": [
    {
      "cell_type": "markdown",
      "metadata": {
        "id": "view-in-github",
        "colab_type": "text"
      },
      "source": [
        "<a href=\"https://colab.research.google.com/github/rebeccalizaverghese/Python-Revision/blob/main/02_02_Python_Revision_Functions.ipynb\" target=\"_parent\"><img src=\"https://colab.research.google.com/assets/colab-badge.svg\" alt=\"Open In Colab\"/></a>"
      ]
    },
    {
      "cell_type": "code",
      "execution_count": null,
      "metadata": {
        "id": "0m34tBHSL0FV"
      },
      "outputs": [],
      "source": [
        "#Functions - don't require exit conditions unlike for/while loop\n",
        "#DEFINE FUNCTION - def\n",
        "def India(): \n",
        "  print(\"India is my country\")"
      ]
    },
    {
      "cell_type": "code",
      "source": [
        "India()"
      ],
      "metadata": {
        "colab": {
          "base_uri": "https://localhost:8080/"
        },
        "id": "utJeOQkwPhc4",
        "outputId": "c27ca1a3-7ee5-4437-8e35-cd8df13f89b4"
      },
      "execution_count": null,
      "outputs": [
        {
          "output_type": "stream",
          "name": "stdout",
          "text": [
            "India is my country\n"
          ]
        }
      ]
    },
    {
      "cell_type": "code",
      "source": [
        "def Rebecca(a,b,c):\n",
        "  print(\"My name is\", a)\n",
        "  print(\"My roll number is\", b)\n",
        "  print(\"My place is\", c)\n",
        "  "
      ],
      "metadata": {
        "id": "reiTB56UPjsx"
      },
      "execution_count": null,
      "outputs": []
    },
    {
      "cell_type": "code",
      "source": [
        "a=input(\"Enter your name\")\n",
        "b=int(input(\"Enter your roll no.\"))\n",
        "c=input(\"Enter your place\")"
      ],
      "metadata": {
        "colab": {
          "base_uri": "https://localhost:8080/"
        },
        "id": "QLHYJxQWQmK8",
        "outputId": "e002a50b-dc82-4c48-88e1-c19f33834ace"
      },
      "execution_count": null,
      "outputs": [
        {
          "name": "stdout",
          "output_type": "stream",
          "text": [
            "Enter your nameRebecca\n",
            "Enter your roll no.33\n",
            "Enter your placeAroor\n"
          ]
        }
      ]
    },
    {
      "cell_type": "code",
      "source": [
        "Rebecca(a,b,c)"
      ],
      "metadata": {
        "colab": {
          "base_uri": "https://localhost:8080/"
        },
        "id": "udm56ebPQoQ6",
        "outputId": "bc9b6f43-44b9-4cd8-b8c8-12d74d3870e0"
      },
      "execution_count": null,
      "outputs": [
        {
          "output_type": "stream",
          "name": "stdout",
          "text": [
            "My name is Rebecca\n",
            "My roll number is 33\n",
            "My place is Aroor\n"
          ]
        }
      ]
    },
    {
      "cell_type": "code",
      "source": [
        "x=input(\"Enter your full name\")\n",
        "def firstname(x):\n",
        "  print(x[0:8])\n",
        "def secondname(x):\n",
        "  print(x[8:12])\n",
        "def lastname(x):\n",
        "  print(x[13:21])"
      ],
      "metadata": {
        "colab": {
          "base_uri": "https://localhost:8080/"
        },
        "id": "2wUxgqSMRoK2",
        "outputId": "75bda7e3-6bea-43ec-b4ff-a5e6c3626d19"
      },
      "execution_count": null,
      "outputs": [
        {
          "name": "stdout",
          "output_type": "stream",
          "text": [
            "Enter your full nameRebecca Liza Verghese\n"
          ]
        }
      ]
    },
    {
      "cell_type": "code",
      "source": [
        "firstname(x)\n",
        "secondname(x)\n",
        "lastname(x)"
      ],
      "metadata": {
        "colab": {
          "base_uri": "https://localhost:8080/"
        },
        "id": "7rVXYM3IVWpA",
        "outputId": "826d766c-4c1d-4aac-d2b8-f1f7e7133dbb"
      },
      "execution_count": null,
      "outputs": [
        {
          "output_type": "stream",
          "name": "stdout",
          "text": [
            "Rebecca \n",
            "Liza\n",
            "Verghese\n"
          ]
        }
      ]
    },
    {
      "cell_type": "code",
      "source": [
        "x=int(input(\"Enter a value\"))\n",
        "y=int(input(\"Enter a value\"))\n",
        "def switch(x,y):\n",
        "  print(\"The value is\", x)\n",
        "  print(\"The value is\", y)"
      ],
      "metadata": {
        "colab": {
          "base_uri": "https://localhost:8080/"
        },
        "id": "qVHH8uirVa2Z",
        "outputId": "921408cc-aa66-441d-9804-c4b994b3827f"
      },
      "execution_count": null,
      "outputs": [
        {
          "name": "stdout",
          "output_type": "stream",
          "text": [
            "Enter a value10\n",
            "Enter a value8\n"
          ]
        }
      ]
    },
    {
      "cell_type": "code",
      "source": [
        "switch(y,x)"
      ],
      "metadata": {
        "colab": {
          "base_uri": "https://localhost:8080/"
        },
        "id": "0DqAbmlGYdx2",
        "outputId": "00f69260-3922-473d-a28b-7253419f6fc6"
      },
      "execution_count": null,
      "outputs": [
        {
          "output_type": "stream",
          "name": "stdout",
          "text": [
            "The value is 8\n",
            "The value is 10\n"
          ]
        }
      ]
    },
    {
      "cell_type": "code",
      "source": [
        "x=input(\"Enter your name\")\n",
        "def name(x):\n",
        "  y=x.split()\n",
        "  print (\"Your first name is\", y[0])\n",
        "  print (\"Your second name is\", y[1])\n",
        "  print (\"Your last name is\", y[2])"
      ],
      "metadata": {
        "colab": {
          "base_uri": "https://localhost:8080/"
        },
        "id": "_LmvynBgY0Er",
        "outputId": "a48bca6c-108a-4010-da6a-ffc9fb05a594"
      },
      "execution_count": null,
      "outputs": [
        {
          "name": "stdout",
          "output_type": "stream",
          "text": [
            "Enter your nameRebecca Liza Verghese\n"
          ]
        }
      ]
    },
    {
      "cell_type": "code",
      "source": [
        "name(x)"
      ],
      "metadata": {
        "colab": {
          "base_uri": "https://localhost:8080/"
        },
        "id": "EYIFE1xdb2r5",
        "outputId": "3d270678-e09c-4278-de6b-3311c5d6b5dc"
      },
      "execution_count": null,
      "outputs": [
        {
          "output_type": "stream",
          "name": "stdout",
          "text": [
            "Your first name is Rebecca\n",
            "Your second name is Liza\n",
            "Your last name is Verghese\n"
          ]
        }
      ]
    },
    {
      "cell_type": "code",
      "source": [
        "  #swapping places of 2 digits\n",
        "  number=int(input(\"Enter number\"))\n",
        "  reversed_number = 0\n",
        "\n",
        "  while number !=0:\n",
        "    digit = number % 10\n",
        "    reversed_number = reversed_number* 10+digit\n",
        "    number //= 10\n",
        "\n",
        "  print(reversed_number)"
      ],
      "metadata": {
        "colab": {
          "base_uri": "https://localhost:8080/"
        },
        "id": "N-vaHS6SdCFs",
        "outputId": "9aeee4ab-fb5e-4f0e-fb3d-b6a47fbae895"
      },
      "execution_count": null,
      "outputs": [
        {
          "output_type": "stream",
          "name": "stdout",
          "text": [
            "Enter number35\n",
            "53\n"
          ]
        }
      ]
    },
    {
      "cell_type": "code",
      "source": [],
      "metadata": {
        "id": "uNLbRvZ8glOW"
      },
      "execution_count": null,
      "outputs": []
    },
    {
      "cell_type": "code",
      "source": [],
      "metadata": {
        "id": "lniGdyxTgnFI"
      },
      "execution_count": null,
      "outputs": []
    },
    {
      "cell_type": "code",
      "source": [],
      "metadata": {
        "id": "UZ7gtb9ig8eY"
      },
      "execution_count": null,
      "outputs": []
    }
  ]
}